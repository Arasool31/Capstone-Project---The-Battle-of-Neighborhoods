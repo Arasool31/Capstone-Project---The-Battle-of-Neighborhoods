{
    "cells": [
        {
            "cell_type": "markdown",
            "metadata": {
                "collapsed": true
            },
            "source": "# Where should you live?"
        },
        {
            "cell_type": "markdown",
            "metadata": {},
            "source": "Clustering Neighbourhoods of Toronto and New York using Machine Learning "
        },
        {
            "cell_type": "markdown",
            "metadata": {},
            "source": "## 1. Introduction\n\nEveryone in the world needs to move at some point for better education, for better career oppurtunities or for just a better life. How does one make that decision? This project will look at two of the most happening cities in the world Toronto and New York. "
        },
        {
            "cell_type": "markdown",
            "metadata": {},
            "source": "## 2. Business Problem\n\nThe aim of this project is to help people choose where they should move to depending on lifestype and experiences. What neighbourhoods in the cities offer what they want to have. This also helps people make decisions if they are thinking about migrating to Toronto or New York or even if they want to relocate neighbourhoods within the city. Our findings will help stakeholders make informed decisions and address any concerns they have including the different kinds of cuisines, provision stores and what the city has to offer."
        },
        {
            "cell_type": "markdown",
            "metadata": {},
            "source": "## 3. Data Section\n\nIn order to look at the different cities we need geographical location data. Postal codes in each city will be the starting point. Using these postal codes, we will be able to find out our neighbourhoods, borough, venues, popular venues. \n\n### Toronto \n\nWe will need to scrape data from the following site: https://en.wikipedia.org/wiki/List_of_postal_codes_of_Canada:_M\n\nThis Wikipedia page has information about all the neighbourhoods; we limit it to London.\n\n1. Neighbourhood: Name of Neighbourhood\n2. Borough: Name of the borough\n3. post_code: Postal codes for London.\n\nThis Wikipedia page lacks information about geographical locations. To solve this problem, we use data from: https://cocl.us/Geospatial_data\n\n### New York\n\nWe will need to get our data from the following: https://cf-courses-data.s3.us.cloud-object-storage.appdomain.cloud/IBMDeveloperSkillsNetwork-DS0701EN-SkillsNetwork/labs/newyork_data.json\n\nThe JSON file has data about all the neighbourhoods in New York. \n\n1. Neighbourhood: Name of Neighbourhood\n2. Borough: Name of the borough\n3. Latitude: Geographical location\n4. Longitude: Geographical location\n\n### Foursquare API Data\n\nWe will need data about different venues in different neighbourhoods. To get this information we will use Foursquare location information. Foursquare is a location data provider with information about all manner of venues and events within an area of interest. Such information includes venue names, locations, menus and even photos. As such, the foursquare location platform will be used as the sole data source since all the stated required information can be obtained through the API.\n\nAfter finding the list of neighbourhoods, we then connect to the Foursquare API to gather information about venues inside each neighbourhood. For each neighbourhood, we have chosen the radius to be 500 meters.\nThe data retrieved from Foursquare contained information of venues within a specified distance of the longitude and latitude of the postcodes. \n\nThe information obtained per venue as follows:\n\n1. Neighbourhood: Name of the Neighborhood\n2. Neighbourhood Latitude: Latitude of the Neighborhood\n3. Neighbourhood Longitude: Longitude of the Neighborhood\n4. Venue: Name of the Venue\n5. Venue Latitude: Latitude of Venue\n6. Venue Longitude: Longitude of Venue\n7. Venue Category: Category of Venue\n\nBased on all the information collected for both Toronto and New York, we have sufficient data to build our model. We cluster the neighbourhoods together based on similar venue categories. We then present our observations and findings. Using this data, our stakeholders can take the necessary decision.\n"
        }
    ],
    "metadata": {
        "kernelspec": {
            "display_name": "Python 3.7",
            "language": "python",
            "name": "python3"
        },
        "language_info": {
            "codemirror_mode": {
                "name": "ipython",
                "version": 3
            },
            "file_extension": ".py",
            "mimetype": "text/x-python",
            "name": "python",
            "nbconvert_exporter": "python",
            "pygments_lexer": "ipython3",
            "version": "3.7.9"
        }
    },
    "nbformat": 4,
    "nbformat_minor": 1
}